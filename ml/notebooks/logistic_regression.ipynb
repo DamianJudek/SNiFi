{
 "cells": [
  {
   "cell_type": "markdown",
   "metadata": {},
   "source": [
    "# SNiFi: Logistic Regression in Binary Classification"
   ]
  },
  {
   "cell_type": "code",
   "execution_count": 3,
   "metadata": {},
   "outputs": [
    {
     "name": "stderr",
     "output_type": "stream",
     "text": [
      "100%|██████████| 135/135 [01:34<00:00,  1.43it/s]\n",
      "100%|██████████| 135/135 [05:03<00:00,  2.25s/it]\n",
      "100%|██████████| 34/34 [00:27<00:00,  1.23it/s]\n"
     ]
    },
    {
     "name": "stdout",
     "output_type": "stream",
     "text": [
      "##### Logistic Regression (2 classes) #####\n",
      "accuracy_score:  0.9890510408880481\n",
      "recall_score:  0.8903256738863513\n",
      "precision_score:  0.8641187549527014\n",
      "f1_score:  0.8767412604444338\n",
      "\n",
      "Class Imbalance:\n",
      "Attack: 10096839\n",
      "Benign: 243322\n"
     ]
    }
   ],
   "source": [
    "import pandas as pd\n",
    "import numpy as np\n",
    "import os\n",
    "import sys\n",
    "from tqdm import tqdm\n",
    "import warnings\n",
    "warnings.filterwarnings('ignore')\n",
    "from sklearn.linear_model import LogisticRegression\n",
    "from sklearn.preprocessing import StandardScaler\n",
    "from sklearn.model_selection import train_test_split\n",
    "from sklearn.metrics import accuracy_score, recall_score, precision_score, f1_score, confusion_matrix\n",
    "from collections import Counter\n",
    "import joblib\n",
    "\n",
    "sys.path.append(os.path.abspath(os.path.join(os.getcwd(), '..')))\n",
    "\n",
    "RANDOM_STATE = 42\n",
    "\n",
    "ML_DIR = os.path.abspath(os.path.join(os.getcwd(), '..'))\n",
    "DATASET_DIRECTORY = os.path.join(ML_DIR, 'data', 'production', 'csv')\n",
    "MODEL_PATH = os.path.join(ML_DIR, 'models', 'logistic_regression_model.pkl')\n",
    "\n",
    "X_columns = [\n",
    "    'flow_duration', 'Header_Length', 'Protocol Type', 'Duration',\n",
    "    'Rate', 'Srate', 'Drate', 'fin_flag_number', 'syn_flag_number',\n",
    "    'rst_flag_number', 'psh_flag_number', 'ack_flag_number',\n",
    "    'ece_flag_number', 'cwr_flag_number', 'ack_count',\n",
    "    'syn_count', 'fin_count', 'urg_count', 'rst_count', \n",
    "    'HTTP', 'HTTPS', 'DNS', 'Telnet', 'SMTP', 'SSH', 'IRC', 'TCP',\n",
    "    'UDP', 'DHCP', 'ARP', 'ICMP', 'IPv', 'LLC', 'Tot sum', 'Min',\n",
    "    'Max', 'AVG', 'Std', 'Tot size', 'IAT', 'Number', 'Magnitue',\n",
    "    'Radius', 'Covariance', 'Variance', 'Weight'\n",
    "]\n",
    "y_column = 'label'\n",
    "\n",
    "df_sets = [k for k in os.listdir(DATASET_DIRECTORY) if k.endswith('.csv')]\n",
    "df_sets.sort()\n",
    "training_sets = df_sets[:int(len(df_sets) * .8)]\n",
    "test_sets = df_sets[int(len(df_sets) * .8):]\n",
    "\n",
    "dict_2classes = {\n",
    "    'DDoS-RSTFINFlood': 'Attack',\n",
    "    'DDoS-PSHACK_Flood': 'Attack',\n",
    "    'DDoS-SYN_Flood': 'Attack',\n",
    "    'DDoS-UDP_Flood': 'Attack',\n",
    "    'DDoS-TCP_Flood': 'Attack',\n",
    "    'DDoS-ICMP_Flood': 'Attack',\n",
    "    'DDoS-SynonymousIP_Flood': 'Attack',\n",
    "    'DDoS-ACK_Fragmentation': 'Attack',\n",
    "    'DDoS-UDP_Fragmentation': 'Attack',\n",
    "    'DDoS-ICMP_Fragmentation': 'Attack',\n",
    "    'DDoS-SlowLoris': 'Attack',\n",
    "    'DDoS-HTTP_Flood': 'Attack',\n",
    "    'DoS-UDP_Flood': 'Attack',\n",
    "    'DoS-SYN_Flood': 'Attack',\n",
    "    'DoS-TCP_Flood': 'Attack',\n",
    "    'DoS-HTTP_Flood': 'Attack',\n",
    "    'Mirai-greeth_flood': 'Attack',\n",
    "    'Mirai-greip_flood': 'Attack',\n",
    "    'Mirai-udpplain': 'Attack',\n",
    "    'Recon-PingSweep': 'Attack',\n",
    "    'Recon-OSScan': 'Attack',\n",
    "    'Recon-PortScan': 'Attack',\n",
    "    'VulnerabilityScan': 'Attack',\n",
    "    'Recon-HostDiscovery': 'Attack',\n",
    "    'DNS_Spoofing': 'Attack',\n",
    "    'MITM-ArpSpoofing': 'Attack',\n",
    "    'BenignTraffic': 'Benign',\n",
    "    'BrowserHijacking': 'Attack',\n",
    "    'Backdoor_Malware': 'Attack',\n",
    "    'XSS': 'Attack',\n",
    "    'Uploading_Attack': 'Attack',\n",
    "    'SqlInjection': 'Attack',\n",
    "    'CommandInjection': 'Attack',\n",
    "    'DictionaryBruteForce': 'Attack'\n",
    "}\n",
    "\n",
    "scaler = StandardScaler()\n",
    "for train_set in tqdm(training_sets):\n",
    "    file_path = os.path.join(DATASET_DIRECTORY, train_set)\n",
    "    scaler.fit(pd.read_csv(file_path)[X_columns])\n",
    "\n",
    "logistic_model = LogisticRegression(random_state=RANDOM_STATE, max_iter=1000)\n",
    "\n",
    "for train_set in tqdm(training_sets):\n",
    "    file_path = os.path.join(DATASET_DIRECTORY, train_set)\n",
    "    d = pd.read_csv(file_path)\n",
    "    d[X_columns] = scaler.transform(d[X_columns])\n",
    "    d[y_column] = [dict_2classes[k] for k in d[y_column]]\n",
    "    logistic_model.fit(d[X_columns], d[y_column])\n",
    "\n",
    "joblib.dump(logistic_model, MODEL_PATH)\n",
    "\n",
    "y_test = []\n",
    "y_pred = []\n",
    "\n",
    "for test_set in tqdm(test_sets):\n",
    "    file_path = os.path.join(DATASET_DIRECTORY, test_set)\n",
    "    d_test = pd.read_csv(file_path)\n",
    "    d_test[X_columns] = scaler.transform(d_test[X_columns])\n",
    "    d_test[y_column] = [dict_2classes[k] for k in d_test[y_column]]\n",
    "    y_test += list(d_test[y_column].values)\n",
    "    y_pred += list(logistic_model.predict(d_test[X_columns]))\n",
    "\n",
    "print('##### Logistic Regression (2 classes) #####')\n",
    "print('accuracy_score: ', accuracy_score(y_pred, y_test))\n",
    "print('recall_score: ', recall_score(y_pred, y_test, average='macro'))\n",
    "print('precision_score: ', precision_score(y_pred, y_test, average='macro'))\n",
    "print('f1_score: ', f1_score(y_pred, y_test, average='macro'))\n",
    "\n",
    "class_counts = Counter(y_test)\n",
    "print(\"\\nClass Imbalance:\")\n",
    "for label, count in class_counts.items():\n",
    "    print(f\"{label}: {count}\")"
   ]
  },
  {
   "cell_type": "code",
   "execution_count": 4,
   "metadata": {},
   "outputs": [
    {
     "name": "stdout",
     "output_type": "stream",
     "text": [
      "Confusion Matrix:\n",
      " [[10048588    48251]\n",
      " [   64963   178359]]\n",
      "\n",
      "\n",
      "\n"
     ]
    }
   ],
   "source": [
    "cm = confusion_matrix(y_test, y_pred)\n",
    "print('Confusion Matrix:\\n', cm)\n",
    "print(\"\\n\\n\")"
   ]
  },
  {
   "cell_type": "code",
   "execution_count": 5,
   "metadata": {},
   "outputs": [
    {
     "data": {
      "image/png": "[encoded data removed]",
      "text/plain": [
       "<Figure size 800x600 with 2 Axes>"
      ]
     },
     "metadata": {},
     "output_type": "display_data"
    }
   ],
   "source": [
    "import matplotlib.pyplot as plt\n",
    "import seaborn as sns\n",
    "\n",
    "labels = ['Attack', 'Benign']\n",
    "plt.figure(figsize=(8, 6))\n",
    "sns.heatmap(cm, annot=True, fmt=\"d\", cmap='Blues', xticklabels=labels, yticklabels=labels)\n",
    "plt.title('Confusion Matrix')\n",
    "plt.ylabel('Actual')\n",
    "plt.xlabel('Predicted')\n",
    "plt.show()"
   ]
  },
  {
   "cell_type": "markdown",
   "metadata": {},
   "source": [
    "### Overall Effectiveness of the Logistic Regression Model (Metric: *accuracy*)\n",
    "* The model rarely makes mistakes.\n",
    "* In **98.91%** of cases, it correctly identifies the type of traffic (**attack** or **normal traffic**).\n",
    "\n",
    "### How Well the Model Detects Attacks (Metric: *Recall*)\n",
    "* The model is highly capable of identifying attack attempts, with a recall of over **89%**.\n",
    "\n",
    "### How Well the Model Avoids False Alarms (Metric: *Precision*)\n",
    "* The model performs very well in avoiding false alarms, with a precision of over **86%**.\n",
    "\n",
    "### Balance Between Detection and Avoiding False Alarms (Metric: *F1 Score*)\n",
    "* The **F1 score**, which helps understand how well the model balances detecting attacks and avoiding false alarms, is over **87.67%**.\n",
    "* This high F1 score indicates a strong balance between these two aspects: the model is equally good at detecting attacks and avoiding false alarms.\n",
    "\n",
    "### Confusion Matrix Analysis\n",
    "The confusion matrix shows how often the model makes errors or is accurate in its predictions. For this model:\n",
    "* **Correctly** identified **10,048,588** attacks as threats <-- **True Positives (TP)**.\n",
    "* **Incorrectly** identified **64,963** benign activities as attacks (false alarms) <-- **False Positives (FP)**.\n",
    "* **Incorrectly** classified **48,251** attacks as safe activities (these are misses) <-- **False Negatives (FN)**.\n",
    "* **Correctly** recognized **178,359** benign activities as safe activities <-- **True Negatives (TN)**."
   ]
  },
  {
   "cell_type": "markdown",
   "metadata": {},
   "source": []
  }
 ],
 "metadata": {
  "kernelspec": {
   "display_name": "mlops_iot",
   "language": "python",
   "name": "python3"
  },
  "language_info": {
   "codemirror_mode": {
    "name": "ipython",
    "version": 3
   },
   "file_extension": ".py",
   "mimetype": "text/x-python",
   "name": "python",
   "nbconvert_exporter": "python",
   "pygments_lexer": "ipython3",
   "version": "3.11.7"
  }
 },
 "nbformat": 4,
 "nbformat_minor": 2
}
